{
 "cells": [
  {
   "cell_type": "code",
   "execution_count": 34,
   "id": "cc108eec",
   "metadata": {},
   "outputs": [],
   "source": [
    "# Imports with plotting libraries\n",
    "import matplotlib\n",
    "import matplotlib.pyplot as plt\n",
    "import numpy as np\n",
    "import scipy as sp\n",
    "import seaborn as sns\n",
    "import matplotlib.collections as mcoll\n",
    "import matplotlib.path as mpath\n",
    "from matplotlib import cm\n",
    "from matplotlib.ticker import FuncFormatter\n",
    "sns.set()\n",
    "sns.set_palette(\"colorblind\", 8)\n",
    "sns.set_style(\"ticks\", {\"xtick.major.size\": 18, \"ytick.major.size\": 18})\n",
    "sns.set_context(\"notebook\", font_scale=2.0, rc={\"lines.linewidth\": 2.5})\n",
    "import pandas as pd\n"
   ]
  },
  {
   "cell_type": "code",
   "execution_count": 35,
   "id": "724e83f5",
   "metadata": {},
   "outputs": [],
   "source": [
    "def beautify_ax(ax):\n",
    "    # Border\n",
    "    ax.spines[\"top\"].set_color(\"black\")\n",
    "    ax.spines[\"bottom\"].set_color(\"black\")\n",
    "    ax.spines[\"left\"].set_color(\"black\")\n",
    "    ax.spines[\"right\"].set_color(\"black\")\n",
    "    ax.get_xaxis().set_tick_params(direction=\"out\")\n",
    "    ax.get_yaxis().set_tick_params(direction=\"out\")\n",
    "    ax.xaxis.tick_bottom()\n",
    "    ax.yaxis.tick_left()\n",
    "    return ax\n",
    "    \n",
    "def plot_3d_scatter(\n",
    "    xint,\n",
    "    yint,\n",
    "    grid,\n",
    "    px,\n",
    "    py,\n",
    "    ymin,\n",
    "    ymax,\n",
    "    x1min,\n",
    "    x1max,\n",
    "    x2min,\n",
    "    x2max,\n",
    "    x1base,\n",
    "    x2base,\n",
    "    x1label=\"Descriptor 1\",\n",
    "    x2label=\"Descriptor 2\",\n",
    "    ylabel=\"Z axis\",\n",
    "    filename=\"scatterplot.png\",\n",
    "    cb=\"white\",\n",
    "    ms=\"o\",\n",
    "    plotmode=1,\n",
    "):\n",
    "    fig, ax = plt.subplots(\n",
    "        frameon=False, figsize=[2.5,2.0], dpi=300, constrained_layout=True\n",
    "    )\n",
    "    grid = np.clip(grid, ymin+65, ymax)    \n",
    "    norm = cm.colors.Normalize(vmax=ymax, vmin=ymin+65)\n",
    "    ax = beautify_ax(ax)\n",
    "    cset = ax.imshow(\n",
    "        grid,\n",
    "        interpolation=\"antialiased\",\n",
    "        extent=[x1min, x1max, x2min, x2max],\n",
    "        origin=\"lower\",\n",
    "        cmap=cm.jet,\n",
    "        aspect=\"auto\",\n",
    "    )\n",
    "    #ticks\n",
    "    ax.minorticks_on()\n",
    "    ax.tick_params(bottom=True, top=True, left=True, right=True)\n",
    "    ax.tick_params(which='major', length=4, width=1, direction='in')\n",
    "    ax.tick_params(which='minor', length=2, width=1, direction='in',top=True,right=True)\n",
    "    for axis in ['top','bottom','left','right']:\n",
    "        ax.spines[axis].set_linewidth(1.0)\n",
    "\n",
    "    for tick in ax.get_xticklabels():\n",
    "        tick.set_fontname(\"Arial\")\n",
    "    for tick in ax.get_yticklabels():\n",
    "        tick.set_fontname(\"Arial\")\n",
    "    # Labels and key\n",
    "    plt.xlabel(x1label, fontsize=6, fontweight='bold')\n",
    "    plt.ylabel(x2label,fontsize=6, fontweight='bold')\n",
    "    plt.xlim(x1min, x1max)\n",
    "    plt.ylim(x2min, x2max)\n",
    "    plt.xticks(np.arange(x1min, x1max + 0.1, x1base),fontsize=6)\n",
    "    plt.yticks(np.arange(x2min, x2max + 0.1, x2base),fontsize=6)\n",
    "    fmt = lambda x, pos: \"%.0f\" % x\n",
    "    cbar = fig.colorbar(cset, format=FuncFormatter(fmt))\n",
    "    cbar.ax.set_title(ylabel,fontsize=6, fontweight='bold')\n",
    "    cbar.ax.tick_params(labelsize=6)\n",
    "    plt.savefig(filename)"
   ]
  },
  {
   "cell_type": "code",
   "execution_count": 36,
   "id": "59553580",
   "metadata": {},
   "outputs": [
    {
     "data": {
      "application/vnd.jupyter.widget-view+json": {
       "model_id": "c763d3e912e14d829e2548e06c6127e5",
       "version_major": 2,
       "version_minor": 0
      },
      "text/plain": [
       "Canvas(toolbar=Toolbar(toolitems=[('Home', 'Reset original view', 'home', 'home'), ('Back', 'Back to previous …"
      ]
     },
     "metadata": {},
     "output_type": "display_data"
    }
   ],
   "source": [
    "# Data from volcanic.py output\n",
    "#!ls\n",
    "grid_tof = np.loadtxt('tof_volcano_nd2.csv', delimiter=',')[:,2].reshape(200,200).T\n",
    "grid_res = np.loadtxt('regions_es_volcano_nd2.csv', delimiter=',')[:,2].reshape(200,200).T\n",
    "\n",
    "# The csv file as loaded does not contain the descriptor information\n",
    "xint = np.linspace(-50, 50, 200)\n",
    "yint = np.linspace(-120, 40, 200)\n",
    "\n",
    "# Plot the data using matplotlib\n",
    "%matplotlib widget\n",
    "plot_3d_scatter(xint,yint,grid_tof,px=[1,0],py=[0,1],ymin=grid_tof.min(), ymax=grid_tof.max(), x1min=-50, x1max=50, x2min=-120, x2max=40, x1base=15, x2base=15)\n",
    "\n"
   ]
  },
  {
   "cell_type": "code",
   "execution_count": null,
   "id": "23cd033f",
   "metadata": {},
   "outputs": [],
   "source": []
  },
  {
   "cell_type": "code",
   "execution_count": null,
   "id": "a9d85d9f",
   "metadata": {},
   "outputs": [],
   "source": []
  },
  {
   "cell_type": "code",
   "execution_count": null,
   "id": "341f96f4",
   "metadata": {},
   "outputs": [],
   "source": []
  }
 ],
 "metadata": {
  "kernelspec": {
   "display_name": "Python 3 (ipykernel)",
   "language": "python",
   "name": "python3"
  },
  "language_info": {
   "codemirror_mode": {
    "name": "ipython",
    "version": 3
   },
   "file_extension": ".py",
   "mimetype": "text/x-python",
   "name": "python",
   "nbconvert_exporter": "python",
   "pygments_lexer": "ipython3",
   "version": "3.8.12"
  }
 },
 "nbformat": 4,
 "nbformat_minor": 5
}
