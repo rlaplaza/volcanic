{
 "cells": [
  {
   "cell_type": "code",
   "execution_count": 6,
   "id": "cc108eec",
   "metadata": {},
   "outputs": [],
   "source": [
    "# Imports with plotting libraries\n",
    "import matplotlib\n",
    "import matplotlib.pyplot as plt\n",
    "import numpy as np\n",
    "import scipy as sp\n",
    "import seaborn as sns\n",
    "import matplotlib.collections as mcoll\n",
    "import matplotlib.path as mpath\n",
    "sns.set()\n",
    "sns.set_palette(\"colorblind\", 8)\n",
    "sns.set_style(\"ticks\", {\"xtick.major.size\": 18, \"ytick.major.size\": 18})\n",
    "sns.set_context(\"notebook\", font_scale=2.0, rc={\"lines.linewidth\": 2.5})\n",
    "import pandas as pd\n"
   ]
  },
  {
   "cell_type": "code",
   "execution_count": 7,
   "id": "59553580",
   "metadata": {},
   "outputs": [
    {
     "data": {
      "application/vnd.jupyter.widget-view+json": {
       "model_id": "a45eb35cf076454586b5667298df1f6b",
       "version_major": 2,
       "version_minor": 0
      },
      "text/plain": [
       "Canvas(toolbar=Toolbar(toolitems=[('Home', 'Reset original view', 'home', 'home'), ('Back', 'Back to previous …"
      ]
     },
     "metadata": {},
     "output_type": "display_data"
    }
   ],
   "source": [
    "# Data from volcanic.py output\n",
    "#!ls\n",
    "from numpy import genfromtxt\n",
    "xvstof = np.genfromtxt('tof_volcano_4.csv', delimiter=',')\n",
    "\n",
    "\n",
    "x = [ i[0] for i in xvstof ]\n",
    "y = [ i[1] for i in xvstof ]\n",
    "\n",
    "# We use interp1d to interpolate to an arbitrary number of points\n",
    "interpolator = sp.interpolate.interp1d(x, y, kind='quadratic')\n",
    "x = np.linspace(-80, 10, 5000)\n",
    "y = interpolator(x)\n",
    "\n",
    "\n",
    "# Empirically found distributions of ligands in the volcano\n",
    "phos_gau = [ -20+16.6*np.exp(-0.25*(i+22)**2/45)*(1-sp.stats.norm.cdf(0.3*(i+0))) for i in x]\n",
    "carb_gau = [ -17+16.5*np.exp(-0.18*(i+10)**2/60)*sp.stats.norm.cdf(0.04*(i+33)) for i in x]\n",
    "\n",
    "# Plot the data using matplotlib\n",
    "%matplotlib widget\n",
    "fig, ax1 = plt.subplots(figsize=(8,4)) # width & height\n",
    "ax1.locator_params(axis='y', integer=True)\n",
    "ax1.locator_params(axis='x', integer=True)\n",
    "\n",
    "ax1.plot(x,y, linewidth=3, color='black')\n",
    "ax1.set(xlabel=r\"$\\Delta G(\\mathbf{4})}$ (kcal/mol)\",\n",
    "        ylabel=r\"log(TOF) (1/s)\",\n",
    "        xlim=(-80,10),\n",
    "        ylim=(-15,-3),)\n",
    "\n",
    "\n",
    "ax1.fill_between(x, -15, phos_gau, facecolor='blue', alpha=0.4)\n",
    "ax1.fill_between(x, -15, carb_gau, facecolor='orange', alpha=0.4)\n",
    "\n",
    "\n",
    "plt.tight_layout()"
   ]
  },
  {
   "cell_type": "code",
   "execution_count": null,
   "id": "23cd033f",
   "metadata": {},
   "outputs": [],
   "source": []
  }
 ],
 "metadata": {
  "kernelspec": {
   "display_name": "Python 3 (ipykernel)",
   "language": "python",
   "name": "python3"
  },
  "language_info": {
   "codemirror_mode": {
    "name": "ipython",
    "version": 3
   },
   "file_extension": ".py",
   "mimetype": "text/x-python",
   "name": "python",
   "nbconvert_exporter": "python",
   "pygments_lexer": "ipython3",
   "version": "3.8.12"
  }
 },
 "nbformat": 4,
 "nbformat_minor": 5
}
